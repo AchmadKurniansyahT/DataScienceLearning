{
 "cells": [
  {
   "cell_type": "markdown",
   "metadata": {},
   "source": [
    "# **PYTHON : VARIABLE**\n",
    "\n",
    "**Outline**\n",
    "- Menuliskan Variable\n",
    "- Do & Don't Menulis Variable\n",
    "- Cek Tipe Data\n",
    "- Operasi Matematika dan Math Module\n",
    "- String\n",
    "- User Input"
   ]
  },
  {
   "cell_type": "markdown",
   "metadata": {},
   "source": [
    "## **1. Penulisan Variable**"
   ]
  },
  {
   "cell_type": "code",
   "execution_count": 1,
   "metadata": {},
   "outputs": [],
   "source": [
    "# Membuat variable\n",
    "\n",
    "nama = 'Achmad'\n",
    "usia = 26\n",
    "menikah = False"
   ]
  },
  {
   "cell_type": "code",
   "execution_count": 2,
   "metadata": {},
   "outputs": [
    {
     "name": "stdout",
     "output_type": "stream",
     "text": [
      "Achmad\n",
      "26\n",
      "False\n"
     ]
    }
   ],
   "source": [
    "# Memanggil Variable Yang Sudah Dibuat\n",
    "print (nama)\n",
    "print (usia)\n",
    "print (menikah)"
   ]
  },
  {
   "cell_type": "code",
   "execution_count": 3,
   "metadata": {},
   "outputs": [
    {
     "name": "stdout",
     "output_type": "stream",
     "text": [
      "Nama Saya Adalah Achmad yang saat ini berusia 26.\n"
     ]
    }
   ],
   "source": [
    "# Memanggil dengan menggunakan format pada print\n",
    "print(f'Nama Saya Adalah {nama} yang saat ini berusia {usia}.')"
   ]
  },
  {
   "cell_type": "markdown",
   "metadata": {},
   "source": [
    "## **2. Do and Don't Dalam Penulisan Variable**\n",
    "\n",
    "**Rules of Variable**\n",
    "1. HANYA BOLEH dimulai dengan alfabet dan underscore(_)\n",
    "2. Tidak boleh dimulai dengan angka\n",
    "3. Hanya boleh memuat alfabet, angka, dan underscore\n",
    "4. Case Sensitive"
   ]
  },
  {
   "cell_type": "code",
   "execution_count": 4,
   "metadata": {},
   "outputs": [
    {
     "name": "stdout",
     "output_type": "stream",
     "text": [
      "Meta 25 Wildha\n"
     ]
    }
   ],
   "source": [
    "# Hal Yang Boleh (Legal)\n",
    "nama = 'Meta'\n",
    "_usia1 = 25\n",
    "NAMA = 'Wildha' # Case Sensitive\n",
    "\n",
    "print(nama, _usia1, NAMA)"
   ]
  },
  {
   "cell_type": "code",
   "execution_count": 5,
   "metadata": {},
   "outputs": [
    {
     "ename": "SyntaxError",
     "evalue": "invalid syntax (582804176.py, line 2)",
     "output_type": "error",
     "traceback": [
      "\u001b[1;36m  Cell \u001b[1;32mIn[5], line 2\u001b[1;36m\u001b[0m\n\u001b[1;33m    1nama = 'Meta'\u001b[0m\n\u001b[1;37m     ^\u001b[0m\n\u001b[1;31mSyntaxError\u001b[0m\u001b[1;31m:\u001b[0m invalid syntax\n"
     ]
    }
   ],
   "source": [
    "# Hal Yang Tidak Boleh (Ilegal)\n",
    "1nama = 'Meta'\n",
    "_us ia = 25\n",
    "NAMA = 'Wildha' # Case Sensitive\n",
    "\n",
    "print(1nama, _us ia, NAMA)"
   ]
  },
  {
   "cell_type": "markdown",
   "metadata": {},
   "source": [
    "## **3. Check Tipe Data**"
   ]
  },
  {
   "cell_type": "code",
   "execution_count": 6,
   "metadata": {},
   "outputs": [
    {
     "name": "stdout",
     "output_type": "stream",
     "text": [
      "Meta\n",
      "<class 'str'>\n"
     ]
    }
   ],
   "source": [
    "print (nama)\n",
    "print (type(nama))"
   ]
  },
  {
   "cell_type": "markdown",
   "metadata": {},
   "source": [
    "## **4. Operasi Matematika & Math Module**"
   ]
  },
  {
   "cell_type": "code",
   "execution_count": 7,
   "metadata": {},
   "outputs": [
    {
     "name": "stdout",
     "output_type": "stream",
     "text": [
      "30\n",
      "2\n",
      "2\n",
      "0.5\n",
      "16\n",
      "7\n",
      "-5\n"
     ]
    }
   ],
   "source": [
    "# Operasi Matematika \n",
    "\n",
    "print(5*6) ## Perkalian\n",
    "print(12//5) ## Floor Division atau Pembulatan Kebawah\n",
    "print(5%3) ## Modulus atau Sisa Bagi\n",
    "print(1/2) ## Pembagian\n",
    "print(2**4) ## Pangkat\n",
    "print(2+5) ## Penjumlahan\n",
    "print(5-10) ## Pengurangan"
   ]
  },
  {
   "cell_type": "code",
   "execution_count": 8,
   "metadata": {},
   "outputs": [
    {
     "name": "stdout",
     "output_type": "stream",
     "text": [
      "3\n",
      "5.0\n",
      "16.0\n",
      "3.141592653589793\n"
     ]
    }
   ],
   "source": [
    "# Math Module\n",
    "\n",
    "import math as m\n",
    "\n",
    "print(m.ceil(5/2)) ## Pembulatan Keatas\n",
    "print(m.sqrt(25)) ## Akar\n",
    "print(m.pow(2,4)) ## Pangkat (x pangkat y)\n",
    "print(m.pi) ## Konstanta Phi"
   ]
  },
  {
   "cell_type": "markdown",
   "metadata": {},
   "source": [
    "## **5. String**"
   ]
  },
  {
   "cell_type": "code",
   "execution_count": 9,
   "metadata": {},
   "outputs": [
    {
     "name": "stdout",
     "output_type": "stream",
     "text": [
      "Ini adalah string dengan tanda kutip 1.\n",
      "Ini adalah string quotes 2\n",
      "String dengan quotes 3 bisa menuliskan apapun dan akan ditampilkan\n",
      "Misalnya baris baru seperti ini.\n",
      "    Tab seperti ini\n",
      "    pakai string quotes 1 dan 2 seperti I'm dan \"Manusia\"\n"
     ]
    }
   ],
   "source": [
    "# String Quotes\n",
    "\n",
    "quotes1 = 'Ini adalah string dengan tanda kutip 1.'\n",
    "quotes2 = \"Ini adalah string quotes 2\"\n",
    "quotes3 = '''String dengan quotes 3 bisa menuliskan apapun dan akan ditampilkan\n",
    "Misalnya baris baru seperti ini.\n",
    "    Tab seperti ini\n",
    "    pakai string quotes 1 dan 2 seperti I'm dan \"Manusia\"'''\n",
    "\n",
    "print(quotes1)\n",
    "print(quotes2)\n",
    "print(quotes3)\n"
   ]
  },
  {
   "cell_type": "code",
   "execution_count": 10,
   "metadata": {},
   "outputs": [
    {
     "name": "stdout",
     "output_type": "stream",
     "text": [
      "\tIni adalah text. Also It's a string with \n",
      "ilegal character\n"
     ]
    }
   ],
   "source": [
    "# Escape Character\n",
    "text = '\\tIni adalah text. Also It\\'s a string with \\nilegal character' ## Penjelasan tentang \\t \\n dan \\' ada di slide.\n",
    "print(text)"
   ]
  },
  {
   "cell_type": "code",
   "execution_count": 11,
   "metadata": {},
   "outputs": [
    {
     "name": "stdout",
     "output_type": "stream",
     "text": [
      "39\n",
      "['Ini', 'adalah', 'string', 'dengan', 'tanda', 'kutip', '1.']\n",
      "18\n",
      "ini adalah string dengan tanda kutip 1.\n",
      "INI ADALAH STRING DENGAN TANDA KUTIP 1.\n",
      "Ini adalah string dengan tanda kutip 1.\n",
      "Ini $d$l$h string deng$n t$nd$ kutip 1.\n"
     ]
    }
   ],
   "source": [
    "# General Function di String\n",
    "print(len(quotes1)) ## Banyaknya Character Dalam Sebuah String\n",
    "print(quotes1.split(' ')) ## Memisahkan Character Ketika Mendapatkan Karakter Spasi\n",
    "print(quotes1.index('dengan')) ## Mencari Tahu kata \"dengan\" ada di index(urutan) nomor berapa. Urutan dimulai dari 0\n",
    "print(quotes1.lower()) ## Convert ke Lower Case\n",
    "print(quotes1.upper()) ## Convert ke Upper Case\n",
    "print(quotes1.capitalize()) ## Convert menjadi Capitalized\n",
    "print(quotes1.replace(\"a\", \"$\")) ## Mengganti semua karakter \"a\" menjadi \"$\""
   ]
  },
  {
   "cell_type": "code",
   "execution_count": 12,
   "metadata": {},
   "outputs": [
    {
     "name": "stdout",
     "output_type": "stream",
     "text": [
      "Ini adalah string dengan tanda kutip 1.\n",
      "Ini a\n",
      "dalah s\n"
     ]
    }
   ],
   "source": [
    "# String Slicing\n",
    "print(quotes1[:]) ## Menampilkan Semua Character dari index awal sampai akhir\n",
    "print(quotes1[:5]) ## Menampilkan character pada index awal sampai index nomor 4 (stop-1)\n",
    "print(quotes1[5:12]) ## Menampilkan character pada index 5 sampai index nomor 11 (stop-1) "
   ]
  },
  {
   "cell_type": "code",
   "execution_count": 13,
   "metadata": {},
   "outputs": [
    {
     "name": "stdout",
     "output_type": "stream",
     "text": [
      "Nama saya adalah Meta dan berusia 26. 5 Tahun lagi saya akan berusia 31\n"
     ]
    }
   ],
   "source": [
    "# Format Print\n",
    "print(f'Nama saya adalah {nama} dan berusia {usia}. 5 Tahun lagi saya akan berusia {usia+5}') ## \"nama\" dan \"usia\" akan digantikan dengan valuenya"
   ]
  },
  {
   "cell_type": "markdown",
   "metadata": {},
   "source": [
    "## **6. Casting & User Input**"
   ]
  },
  {
   "cell_type": "code",
   "execution_count": 14,
   "metadata": {},
   "outputs": [
    {
     "data": {
      "text/plain": [
       "'26'"
      ]
     },
     "execution_count": 14,
     "metadata": {},
     "output_type": "execute_result"
    }
   ],
   "source": [
    "# Casting (legal) - Merubah tipe data yang dapat diubah\n",
    "\n",
    "str(usia)"
   ]
  },
  {
   "cell_type": "code",
   "execution_count": 15,
   "metadata": {},
   "outputs": [
    {
     "ename": "ValueError",
     "evalue": "invalid literal for int() with base 10: 'Meta'",
     "output_type": "error",
     "traceback": [
      "\u001b[1;31m---------------------------------------------------------------------------\u001b[0m",
      "\u001b[1;31mValueError\u001b[0m                                Traceback (most recent call last)",
      "Cell \u001b[1;32mIn[15], line 2\u001b[0m\n\u001b[0;32m      1\u001b[0m \u001b[39m# Casting (ilegal) - Merubah tipe data yang tidak possible untuk diubah\u001b[39;00m\n\u001b[1;32m----> 2\u001b[0m \u001b[39mint\u001b[39;49m(nama)\n",
      "\u001b[1;31mValueError\u001b[0m: invalid literal for int() with base 10: 'Meta'"
     ]
    }
   ],
   "source": [
    "# Casting (ilegal) - Merubah tipe data yang tidak possible untuk diubah\n",
    "int(nama)"
   ]
  },
  {
   "cell_type": "code",
   "execution_count": 16,
   "metadata": {},
   "outputs": [
    {
     "name": "stdout",
     "output_type": "stream",
     "text": [
      "Nama saya adalah Achmad dan usia saya adalah 25\n"
     ]
    }
   ],
   "source": [
    "# User Input\n",
    "\n",
    "a = input('Masukan Nama Anda : ')\n",
    "b = int(input('Masukan Usia Anda : ')) ## By default, user input adalah sebuah string\n",
    "\n",
    "print(f'Nama saya adalah {a} dan usia saya adalah {b}')"
   ]
  },
  {
   "cell_type": "code",
   "execution_count": null,
   "metadata": {},
   "outputs": [],
   "source": []
  }
 ],
 "metadata": {
  "kernelspec": {
   "display_name": "Python 3",
   "language": "python",
   "name": "python3"
  },
  "language_info": {
   "codemirror_mode": {
    "name": "ipython",
    "version": 3
   },
   "file_extension": ".py",
   "mimetype": "text/x-python",
   "name": "python",
   "nbconvert_exporter": "python",
   "pygments_lexer": "ipython3",
   "version": "3.9.0"
  },
  "orig_nbformat": 4
 },
 "nbformat": 4,
 "nbformat_minor": 2
}
